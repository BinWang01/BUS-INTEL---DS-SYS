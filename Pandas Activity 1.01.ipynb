{
 "cells": [
  {
   "cell_type": "code",
   "execution_count": 25,
   "id": "6e767a7b-958d-4efc-a9fc-3a036c85b21c",
   "metadata": {},
   "outputs": [],
   "source": [
    "import pandas as pd"
   ]
  },
  {
   "cell_type": "code",
   "execution_count": 26,
   "id": "768289a3-84c9-40e2-85fd-6b187746a490",
   "metadata": {},
   "outputs": [],
   "source": [
    "store1 = pd.read_csv('https://raw.githubusercontent.com/PacktWorkshops/The-Pandas-Workshop/master/Chapter01/Datasets/Store1.csv')"
   ]
  },
  {
   "cell_type": "code",
   "execution_count": 27,
   "id": "0bf136f9-d395-4594-a258-1762a5a04788",
   "metadata": {},
   "outputs": [],
   "source": [
    "store2 = pd.read_csv('https://raw.githubusercontent.com/PacktWorkshops/The-Pandas-Workshop/master/Chapter01/Datasets/Store2.csv')"
   ]
  },
  {
   "cell_type": "code",
   "execution_count": 28,
   "id": "a21fb337-6423-4f82-96a5-a7c9ec942c1f",
   "metadata": {},
   "outputs": [],
   "source": [
    "#1 Which store has greater sales for the quarter?"
   ]
  },
  {
   "cell_type": "code",
   "execution_count": 29,
   "id": "1db18ffc-c764-4e89-80ba-13876901e18b",
   "metadata": {},
   "outputs": [],
   "source": [
    "store1total = store1[['Grocery_sales','Stationary_sales']].to_numpy().sum()"
   ]
  },
  {
   "cell_type": "code",
   "execution_count": 30,
   "id": "7ae6d024-f7f6-437d-ade5-fc8fa91b5299",
   "metadata": {},
   "outputs": [],
   "source": [
    "store2total = store2[['Grocery_sales','Stationary_sales']].to_numpy().sum()"
   ]
  },
  {
   "cell_type": "code",
   "execution_count": 31,
   "id": "28ec9af4-4f89-4900-a4dc-149adfc5f6ac",
   "metadata": {},
   "outputs": [
    {
     "name": "stdout",
     "output_type": "stream",
     "text": [
      "Store 1 total sales for the quarter: $6082.\n"
     ]
    }
   ],
   "source": [
    "print(f\"Store 1 total sales for the quarter: ${store1total}.\")"
   ]
  },
  {
   "cell_type": "code",
   "execution_count": 32,
   "id": "2a47022b-2e02-4d48-8166-6ab9872a127f",
   "metadata": {},
   "outputs": [
    {
     "name": "stdout",
     "output_type": "stream",
     "text": [
      "Store 2 total sales for the quarter: $5847.\n"
     ]
    }
   ],
   "source": [
    "print(f\"Store 2 total sales for the quarter: ${store2total}.\")"
   ]
  },
  {
   "cell_type": "code",
   "execution_count": 33,
   "id": "dd5f88bd-71ea-4309-851a-076ac54433ac",
   "metadata": {},
   "outputs": [
    {
     "name": "stdout",
     "output_type": "stream",
     "text": [
      "Store 1 has greater sales for the quarter.\n"
     ]
    }
   ],
   "source": [
    "if store1total > store2total:\n",
    "    print(\"Store 1 has greater sales for the quarter.\")\n",
    "else:\n",
    "    print(\"Store 2 has greater sales for the quarter\")"
   ]
  },
  {
   "cell_type": "code",
   "execution_count": null,
   "id": "30f510a4-8df8-4156-b1d1-b16a0c6ea262",
   "metadata": {},
   "outputs": [],
   "source": []
  },
  {
   "cell_type": "code",
   "execution_count": 34,
   "id": "7def42eb-bfcf-4cd6-97a6-f668c669a9b7",
   "metadata": {},
   "outputs": [],
   "source": [
    "#2 Which store has the highest sales for grocery products?"
   ]
  },
  {
   "cell_type": "code",
   "execution_count": 35,
   "id": "4986fc5f-b759-4d67-963b-a1240613a429",
   "metadata": {},
   "outputs": [],
   "source": [
    "store1grocery = store1['Grocery_sales'].sum()"
   ]
  },
  {
   "cell_type": "code",
   "execution_count": 36,
   "id": "19883e70-1c5f-40df-bcf4-8a015aa6160c",
   "metadata": {},
   "outputs": [
    {
     "name": "stdout",
     "output_type": "stream",
     "text": [
      "Store 1 grocery products sales: $2097.\n"
     ]
    }
   ],
   "source": [
    "print(f\"Store 1 grocery products sales: ${store1grocery}.\")"
   ]
  },
  {
   "cell_type": "code",
   "execution_count": 37,
   "id": "f45488e9-0778-4edd-a869-25c3c5a29084",
   "metadata": {},
   "outputs": [],
   "source": [
    "store2grocery = store2['Grocery_sales'].sum()"
   ]
  },
  {
   "cell_type": "code",
   "execution_count": 38,
   "id": "1ac339ba-c2b9-452d-95ca-c224fd9f51b1",
   "metadata": {},
   "outputs": [
    {
     "name": "stdout",
     "output_type": "stream",
     "text": [
      "Store 2 grocery products sales: $2696.\n"
     ]
    }
   ],
   "source": [
    "print(f\"Store 2 grocery products sales: ${store2grocery}.\")"
   ]
  },
  {
   "cell_type": "code",
   "execution_count": 39,
   "id": "a199eb27-0233-4798-a23a-eef3075711ad",
   "metadata": {},
   "outputs": [
    {
     "name": "stdout",
     "output_type": "stream",
     "text": [
      "Store 2 has the highest sales for grocery products.\n"
     ]
    }
   ],
   "source": [
    "if store1grocery > store2grocery:\n",
    "    print(\"Store 1 has the highest sales for grocery products.\")\n",
    "else:\n",
    "    print(\"Store 2 has the highest sales for grocery products.\")"
   ]
  },
  {
   "cell_type": "code",
   "execution_count": null,
   "id": "d20a6a55-e942-420d-9e79-5433af7255da",
   "metadata": {},
   "outputs": [],
   "source": []
  },
  {
   "cell_type": "code",
   "execution_count": 40,
   "id": "92a666b6-83e5-463a-a3ab-e58d0eab30e7",
   "metadata": {},
   "outputs": [],
   "source": [
    "#3 Which store has the highest sales for March?"
   ]
  },
  {
   "cell_type": "code",
   "execution_count": 41,
   "id": "504012b3-0408-4457-a6ad-09f3abb00cc3",
   "metadata": {},
   "outputs": [],
   "source": [
    "store1march = (store1.groupby(['Months'])[['Grocery_sales','Stationary_sales']].sum()).iloc[2].sum()"
   ]
  },
  {
   "cell_type": "code",
   "execution_count": 42,
   "id": "1f4e3640-79a8-4f65-b51d-b818bcde1aa3",
   "metadata": {},
   "outputs": [],
   "source": [
    "store2march = (store2.groupby(['Months'])[['Grocery_sales','Stationary_sales']].sum()).iloc[2].sum()"
   ]
  },
  {
   "cell_type": "code",
   "execution_count": 43,
   "id": "c5656fee-a51f-452a-9374-236b82fa3c0c",
   "metadata": {},
   "outputs": [
    {
     "name": "stdout",
     "output_type": "stream",
     "text": [
      "Store 1 total sales for March: $2871.\n"
     ]
    }
   ],
   "source": [
    "print(f\"Store 1 total sales for March: ${store1march}.\")"
   ]
  },
  {
   "cell_type": "code",
   "execution_count": 44,
   "id": "b0b3e4c1-f2d0-4294-8de2-b4650b8961c6",
   "metadata": {},
   "outputs": [
    {
     "name": "stdout",
     "output_type": "stream",
     "text": [
      "Store 2 total sales for March: $2378.\n"
     ]
    }
   ],
   "source": [
    "print(f\"Store 2 total sales for March: ${store2march}.\")"
   ]
  },
  {
   "cell_type": "code",
   "execution_count": 45,
   "id": "e29c0abc-9cc4-4c54-b9d2-ff7c481c9c92",
   "metadata": {},
   "outputs": [
    {
     "name": "stdout",
     "output_type": "stream",
     "text": [
      "Store 1 has the highest sales for March.\n"
     ]
    }
   ],
   "source": [
    "if store1march > store2march:\n",
    "    print(\"Store 1 has the highest sales for March.\")\n",
    "else:\n",
    "    print(\"Store 2 has the highest sales for March.\")"
   ]
  },
  {
   "cell_type": "code",
   "execution_count": null,
   "id": "61e411d9-5cbd-4588-bb1a-f9104d740abe",
   "metadata": {},
   "outputs": [],
   "source": []
  },
  {
   "cell_type": "code",
   "execution_count": 46,
   "id": "36cea45e-e987-466e-9697-3c54704e7a93",
   "metadata": {},
   "outputs": [],
   "source": [
    "#4 For how many days were the sales of stationery products greater in store 1 than in store 2?"
   ]
  },
  {
   "cell_type": "code",
   "execution_count": 47,
   "id": "2e5c5f78-9f98-40e5-a09a-7d1b89c6d25e",
   "metadata": {},
   "outputs": [
    {
     "name": "stderr",
     "output_type": "stream",
     "text": [
      "/var/folders/ml/pkmcqr9n2fl27nndqrm83f640000gn/T/ipykernel_2564/163732246.py:1: UserWarning: Boolean Series key will be reindexed to match DataFrame index.\n",
      "  store1higerstationary = len(store1[store1['Stationary_sales'].gt(store2['Stationary_sales'],axis=0)])\n"
     ]
    }
   ],
   "source": [
    "store1higerstationary = len(store1[store1['Stationary_sales'].gt(store2['Stationary_sales'],axis=0)])"
   ]
  },
  {
   "cell_type": "code",
   "execution_count": 48,
   "id": "5b4b6a0d-c4bd-4974-9e1d-ae1b97685d98",
   "metadata": {},
   "outputs": [
    {
     "name": "stdout",
     "output_type": "stream",
     "text": [
      "For 35 days the sales of stationery products were greater in store 1 than in store 2.\n"
     ]
    }
   ],
   "source": [
    "print(f\"For {store1higerstationary} days the sales of stationery products were greater in store 1 than in store 2.\")"
   ]
  }
 ],
 "metadata": {
  "kernelspec": {
   "display_name": "Python 3 (ipykernel)",
   "language": "python",
   "name": "python3"
  },
  "language_info": {
   "codemirror_mode": {
    "name": "ipython",
    "version": 3
   },
   "file_extension": ".py",
   "mimetype": "text/x-python",
   "name": "python",
   "nbconvert_exporter": "python",
   "pygments_lexer": "ipython3",
   "version": "3.10.9"
  }
 },
 "nbformat": 4,
 "nbformat_minor": 5
}
