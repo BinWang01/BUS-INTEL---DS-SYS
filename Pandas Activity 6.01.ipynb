{
 "cells": [
  {
   "cell_type": "code",
   "execution_count": 1,
   "id": "0d8c79b1-dada-4c1e-8905-bb1d900067be",
   "metadata": {},
   "outputs": [],
   "source": [
    "import pandas as pd"
   ]
  },
  {
   "cell_type": "code",
   "execution_count": 12,
   "id": "e7622c35-c824-40ad-87db-edf71248a6a7",
   "metadata": {},
   "outputs": [],
   "source": [
    "population_2010 = pd.read_csv('https://raw.githubusercontent.com/PacktWorkshops/The-Pandas-Workshop/master/Chapter06/Datasets/US_Census_SUB-IP-EST2019-ANNRNK_top_20_2010.csv', index_col = [0]).squeeze()"
   ]
  },
  {
   "cell_type": "code",
   "execution_count": 13,
   "id": "7129d510-0121-43b8-820e-c11ae7ca61b1",
   "metadata": {},
   "outputs": [
    {
     "data": {
      "text/plain": [
       "City\n",
       "New York                8190209\n",
       "Los Angeles             3795512\n",
       "Chicago                 2697477\n",
       "Houston                 2100280\n",
       "Phoenix                 1449038\n",
       "Philadelphia            1528283\n",
       "San Antonio             1332299\n",
       "San Diego               1305906\n",
       "Dallas                  1200350\n",
       "San Jose                 954940\n",
       "Austin                   806164\n",
       "Jacksonville             823114\n",
       "Fort Worth               748441\n",
       "Columbus                 790943\n",
       "Charlotte                738444\n",
       "San Francisco            805505\n",
       "Indianapolis             821579\n",
       "Seattle                  610630\n",
       "Denver                   603359\n",
       "District of Columbia     605226\n",
       "Name: 2010, dtype: int64"
      ]
     },
     "execution_count": 13,
     "metadata": {},
     "output_type": "execute_result"
    }
   ],
   "source": [
    "population_2010"
   ]
  },
  {
   "cell_type": "code",
   "execution_count": 20,
   "id": "55b36fbb-9668-4c45-845c-6ce22c43fb55",
   "metadata": {},
   "outputs": [],
   "source": [
    "top_3_2010 = sum(population_2010[['New York', 'Los Angeles', 'Chicago']])"
   ]
  },
  {
   "cell_type": "code",
   "execution_count": 24,
   "id": "dc6d80d0-d022-4ce3-91db-b74b67e6d67c",
   "metadata": {},
   "outputs": [],
   "source": [
    "population_2019 = pd.read_csv('https://raw.githubusercontent.com/PacktWorkshops/The-Pandas-Workshop/master/Chapter06/Datasets/US_Census_SUB-IP-EST2019-ANNRNK_top_20_2019.csv', index_col = [0]).squeeze()"
   ]
  },
  {
   "cell_type": "code",
   "execution_count": 25,
   "id": "6ca01db8-acd9-4c07-872c-ee98e27aed6e",
   "metadata": {},
   "outputs": [
    {
     "data": {
      "text/plain": [
       "City\n",
       "New York                8336817\n",
       "Los Angeles             3979576\n",
       "Chicago                 2693976\n",
       "Houston                 2320268\n",
       "Phoenix                 1680992\n",
       "Philadelphia            1584064\n",
       "San Antonio             1547253\n",
       "San Diego               1423851\n",
       "Dallas                  1343573\n",
       "San Jose                1021795\n",
       "Austin                   978908\n",
       "Jacksonville             911507\n",
       "Fort Worth               909585\n",
       "Columbus                 898553\n",
       "Charlotte                885708\n",
       "San Francisco            881549\n",
       "Indianapolis             876384\n",
       "Seattle                  753675\n",
       "Denver                   727211\n",
       "District of Columbia     705749\n",
       "Name: 2019, dtype: int64"
      ]
     },
     "execution_count": 25,
     "metadata": {},
     "output_type": "execute_result"
    }
   ],
   "source": [
    "population_2019"
   ]
  },
  {
   "cell_type": "code",
   "execution_count": 26,
   "id": "783d228b-015f-4a54-82c7-6a1936151427",
   "metadata": {},
   "outputs": [],
   "source": [
    "top_3_2019 = sum(population_2019[['New York', 'Los Angeles', 'Chicago']])"
   ]
  },
  {
   "cell_type": "code",
   "execution_count": 29,
   "id": "59aef32c-8dd9-44e7-8efc-64cab3e3f754",
   "metadata": {},
   "outputs": [],
   "source": [
    "top_3_change = round(100 * (top_3_2019 - top_3_2010) / top_3_2010,1)"
   ]
  },
  {
   "cell_type": "code",
   "execution_count": 30,
   "id": "857c2537-df19-4971-8939-90d5331f75f2",
   "metadata": {},
   "outputs": [],
   "source": [
    "all_change = round(100 * sum(population_2019 - population_2010) / sum(population_2010),1)"
   ]
  },
  {
   "cell_type": "code",
   "execution_count": 33,
   "id": "b252f74d-4556-47bc-ad4a-df0198dc9fcf",
   "metadata": {},
   "outputs": [
    {
     "name": "stdout",
     "output_type": "stream",
     "text": [
      "top 3 changes: 2.2% vs all changes: 8.0%\n"
     ]
    }
   ],
   "source": [
    "print(f'top 3 changes: {top_3_change}% vs all changes: {all_change}%')"
   ]
  }
 ],
 "metadata": {
  "kernelspec": {
   "display_name": "Python 3 (ipykernel)",
   "language": "python",
   "name": "python3"
  },
  "language_info": {
   "codemirror_mode": {
    "name": "ipython",
    "version": 3
   },
   "file_extension": ".py",
   "mimetype": "text/x-python",
   "name": "python",
   "nbconvert_exporter": "python",
   "pygments_lexer": "ipython3",
   "version": "3.10.9"
  }
 },
 "nbformat": 4,
 "nbformat_minor": 5
}
